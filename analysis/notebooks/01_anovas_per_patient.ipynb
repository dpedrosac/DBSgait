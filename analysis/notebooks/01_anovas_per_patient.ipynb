{
 "cells": [
  {
   "cell_type": "markdown",
   "metadata": {},
   "source": [
    "# ANOVA over all DBS configurations for a specific walking test"
   ]
  },
  {
   "cell_type": "markdown",
   "metadata": {},
   "source": [
    "What we are roughly doing in this notebook:\n",
    "```\n",
    "for each paradigm (fast, free,...):\n",
    "   for each patient:\n",
    "      for each gait parameter (stride legnt, gait speed, ...):\n",
    "         if there are significant differences between 130, 100, OFF, ... according to anova:\n",
    "            n_patients_significant[gait parameter] += 1\n",
    "```\n"
   ]
  },
  {
   "cell_type": "code",
   "execution_count": 1,
   "metadata": {
    "tags": []
   },
   "outputs": [],
   "source": [
    "import sys\n",
    "from tqdm.notebook import tqdm\n",
    "\n",
    "sys.path.append(\"../\")\n",
    "from helper.util import reshape_to_multicolumn\n",
    "from helper.anova import anova, extract_significant_p, conclude_results\n",
    "from typing import Tuple, Dict\n",
    "import pprint\n",
    "\n",
    "import numpy as np\n",
    "import pandas as pd\n",
    "\n",
    "#%load_ext lab_black"
   ]
  },
  {
   "cell_type": "markdown",
   "metadata": {},
   "source": [
    "## Select DBS configurations to use"
   ]
  },
  {
   "cell_type": "code",
   "execution_count": 2,
   "metadata": {},
   "outputs": [
    {
     "name": "stdout",
     "output_type": "stream",
     "text": [
      "Configurations that will be used for ANOVA: frequencies (OFF, 030, 085, 130)\n",
      "We are using the frequencies here, but we can do the same for pulse width or intensity, if necessary.\n"
     ]
    }
   ],
   "source": [
    "configs = {\n",
    "    \"frequencies\": [\"OFF\", \"030\", \"085\", \"130\"],\n",
    "    \"intensities\": [\"OFF\", \"033\", \"066\", \"100\"],\n",
    "    \"pulse_widths\": [\"OFF\", \"040\", \"090\"],\n",
    "}\n",
    "dbs_parameter = \"frequencies\"\n",
    "selected_configs = configs[dbs_parameter]\n",
    "print(\n",
    "    f\"Configurations that will be used for ANOVA: {dbs_parameter} ({', '.join(selected_configs)})\"\n",
    ")\n",
    "print(\n",
    "    f\"We are using the frequencies here, but we can do the same for pulse width or intensity, if necessary.\"\n",
    ")"
   ]
  },
  {
   "cell_type": "markdown",
   "metadata": {},
   "source": [
    "## Load data (not visible in html)"
   ]
  },
  {
   "cell_type": "code",
   "execution_count": 3,
   "metadata": {
    "tags": []
   },
   "outputs": [],
   "source": [
    "stride_params = pd.read_csv(\"../../data/stride_params.csv\")\n",
    "stride_params.drop(\"time_stamp_s\", axis=1, inplace=True)\n",
    "\n",
    "df = stride_params.set_index(\"configuration\")\n",
    "df = df.loc[selected_configs]\n",
    "df = df.reset_index()\n",
    "config = df[\"configuration\"]\n",
    "df.drop(\"configuration\", axis=1, inplace=True)\n",
    "df.insert(1, \"configuration\", config)\n",
    "\n",
    "stride_params = df\n",
    "\n",
    "stride_params[\n",
    "    (stride_params[\"patient_id\"] == \"Pat_03\")\n",
    "    & (stride_params[\"configuration\"] == \"040\")\n",
    "]\n",
    "stride_params.drop(\"preferred\", axis=1, inplace=True)\n",
    "available_gait_parameters = stride_params.columns[5:]\n",
    "strides_dict = {\n",
    "    patient: stride_params[stride_params[\"patient_id\"] == patient]\n",
    "    for patient in set(stride_params[\"patient_id\"])\n",
    "}"
   ]
  },
  {
   "cell_type": "markdown",
   "metadata": {},
   "source": [
    "## Calculate anovas (not visible in html)"
   ]
  },
  {
   "cell_type": "code",
   "execution_count": 4,
   "metadata": {
    "tags": []
   },
   "outputs": [
    {
     "data": {
      "application/vnd.jupyter.widget-view+json": {
       "model_id": "9ecd8ce3f79b4344abdcb8f12411f720",
       "version_major": 2,
       "version_minor": 0
      },
      "text/plain": [
       "  0%|          | 0/78 [00:00<?, ?it/s]"
      ]
     },
     "metadata": {},
     "output_type": "display_data"
    }
   ],
   "source": [
    "results_anova = {}\n",
    "anova_significant = {}\n",
    "unprocessed = []\n",
    "paradigms = list(set(sorted(stride_params[\"test\"])))\n",
    "with tqdm(\n",
    "    total=len(paradigms) * len(available_gait_parameters), file=sys.stdout\n",
    ") as pbar:\n",
    "    # handled_cases = 0\n",
    "    pbar.set_description(f\"Processing...\")\n",
    "    for paradigm in paradigms:\n",
    "        results_anova[paradigm] = {}\n",
    "        anova_significant[paradigm] = {}\n",
    "        for gait_para in available_gait_parameters:\n",
    "            pbar.update(1)\n",
    "            results, n_a = anova(strides_dict, paradigm, gait_para)\n",
    "            results_anova[paradigm][gait_para] = results\n",
    "            unprocessed.extend(list(n_a))\n",
    "\n",
    "\n",
    "# Not for all patients all tests have been recorded, so there are some for which there are no gait parameters\n",
    "# pprint.pprint(\"Not processed because no strides detected: \")\n",
    "# pprint.pprint(set(unprocessed))"
   ]
  },
  {
   "cell_type": "markdown",
   "metadata": {},
   "source": [
    "# Display results"
   ]
  },
  {
   "cell_type": "markdown",
   "metadata": {},
   "source": [
    "## Show one of the resulting dataframes\n"
   ]
  },
  {
   "cell_type": "code",
   "execution_count": 5,
   "metadata": {
    "tags": []
   },
   "outputs": [
    {
     "name": "stdout",
     "output_type": "stream",
     "text": [
      "This shows an exemplary result for the gait test paradigm 'free' (2 minute walk):\n"
     ]
    },
    {
     "data": {
      "text/html": [
       "<div>\n",
       "<style scoped>\n",
       "    .dataframe tbody tr th:only-of-type {\n",
       "        vertical-align: middle;\n",
       "    }\n",
       "\n",
       "    .dataframe tbody tr th {\n",
       "        vertical-align: top;\n",
       "    }\n",
       "\n",
       "    .dataframe thead th {\n",
       "        text-align: right;\n",
       "    }\n",
       "</style>\n",
       "<table border=\"1\" class=\"dataframe\">\n",
       "  <thead>\n",
       "    <tr style=\"text-align: right;\">\n",
       "      <th></th>\n",
       "      <th>n_patients</th>\n",
       "      <th>n_patients_significant</th>\n",
       "      <th>n_feet_significant</th>\n",
       "    </tr>\n",
       "  </thead>\n",
       "  <tbody>\n",
       "    <tr>\n",
       "      <th>gait_speed_meter_per_second</th>\n",
       "      <td>23</td>\n",
       "      <td>20</td>\n",
       "      <td>34</td>\n",
       "    </tr>\n",
       "    <tr>\n",
       "      <th>heel_strike_angle_deg</th>\n",
       "      <td>23</td>\n",
       "      <td>21</td>\n",
       "      <td>37</td>\n",
       "    </tr>\n",
       "    <tr>\n",
       "      <th>landing_impact_g</th>\n",
       "      <td>23</td>\n",
       "      <td>20</td>\n",
       "      <td>34</td>\n",
       "    </tr>\n",
       "    <tr>\n",
       "      <th>max_lateral_excursion_cm</th>\n",
       "      <td>23</td>\n",
       "      <td>17</td>\n",
       "      <td>23</td>\n",
       "    </tr>\n",
       "    <tr>\n",
       "      <th>max_sensor_lift_cm</th>\n",
       "      <td>23</td>\n",
       "      <td>20</td>\n",
       "      <td>34</td>\n",
       "    </tr>\n",
       "    <tr>\n",
       "      <th>stance_time_per_cent</th>\n",
       "      <td>23</td>\n",
       "      <td>20</td>\n",
       "      <td>30</td>\n",
       "    </tr>\n",
       "    <tr>\n",
       "      <th>stance_time_s</th>\n",
       "      <td>23</td>\n",
       "      <td>20</td>\n",
       "      <td>34</td>\n",
       "    </tr>\n",
       "    <tr>\n",
       "      <th>stride_length_cm</th>\n",
       "      <td>23</td>\n",
       "      <td>22</td>\n",
       "      <td>38</td>\n",
       "    </tr>\n",
       "    <tr>\n",
       "      <th>stride_time_s</th>\n",
       "      <td>23</td>\n",
       "      <td>18</td>\n",
       "      <td>32</td>\n",
       "    </tr>\n",
       "    <tr>\n",
       "      <th>swing_time_per_cent</th>\n",
       "      <td>23</td>\n",
       "      <td>20</td>\n",
       "      <td>30</td>\n",
       "    </tr>\n",
       "    <tr>\n",
       "      <th>swing_time_s</th>\n",
       "      <td>23</td>\n",
       "      <td>19</td>\n",
       "      <td>29</td>\n",
       "    </tr>\n",
       "    <tr>\n",
       "      <th>toe_off_angle_deg</th>\n",
       "      <td>23</td>\n",
       "      <td>22</td>\n",
       "      <td>37</td>\n",
       "    </tr>\n",
       "    <tr>\n",
       "      <th>turning_angle_deg</th>\n",
       "      <td>23</td>\n",
       "      <td>4</td>\n",
       "      <td>5</td>\n",
       "    </tr>\n",
       "  </tbody>\n",
       "</table>\n",
       "</div>"
      ],
      "text/plain": [
       "                             n_patients  n_patients_significant  \\\n",
       "gait_speed_meter_per_second          23                      20   \n",
       "heel_strike_angle_deg                23                      21   \n",
       "landing_impact_g                     23                      20   \n",
       "max_lateral_excursion_cm             23                      17   \n",
       "max_sensor_lift_cm                   23                      20   \n",
       "stance_time_per_cent                 23                      20   \n",
       "stance_time_s                        23                      20   \n",
       "stride_length_cm                     23                      22   \n",
       "stride_time_s                        23                      18   \n",
       "swing_time_per_cent                  23                      20   \n",
       "swing_time_s                         23                      19   \n",
       "toe_off_angle_deg                    23                      22   \n",
       "turning_angle_deg                    23                       4   \n",
       "\n",
       "                             n_feet_significant  \n",
       "gait_speed_meter_per_second                  34  \n",
       "heel_strike_angle_deg                        37  \n",
       "landing_impact_g                             34  \n",
       "max_lateral_excursion_cm                     23  \n",
       "max_sensor_lift_cm                           34  \n",
       "stance_time_per_cent                         30  \n",
       "stance_time_s                                34  \n",
       "stride_length_cm                             38  \n",
       "stride_time_s                                32  \n",
       "swing_time_per_cent                          30  \n",
       "swing_time_s                                 29  \n",
       "toe_off_angle_deg                            37  \n",
       "turning_angle_deg                             5  "
      ]
     },
     "execution_count": 5,
     "metadata": {},
     "output_type": "execute_result"
    }
   ],
   "source": [
    "# Here you can replace \"free\" by any of \"slow\", \"normal\", \"fast\", \"tug_one\", \"tug_two\" to get results for another test paradigm.\n",
    "paradigm = \"free\"\n",
    "df = conclude_results(results_anova[paradigm], p_value_limit=0.05)\n",
    "print(\n",
    "    f\"This shows an exemplary result for the gait test paradigm '{paradigm}' (2 minute walk):\"\n",
    ")\n",
    "df"
   ]
  },
  {
   "cell_type": "markdown",
   "metadata": {},
   "source": [
    "Actually I would not expect differences in turning angle, but there are some.\n",
    "Let's take a closer look, what might be going on. First, we want to find out for which patient there was the significant difference."
   ]
  },
  {
   "cell_type": "code",
   "execution_count": 6,
   "metadata": {
    "tags": []
   },
   "outputs": [
    {
     "name": "stdout",
     "output_type": "stream",
     "text": [
      "These patients show significant differences for the paradigm 'free'' and turning_angle_deg:\n",
      " ['Pat_01', 'Pat_27', 'Pat_08', 'Pat_19']\n"
     ]
    }
   ],
   "source": [
    "pats = extract_significant_p(\n",
    "    results_anova[paradigm][\"turning_angle_deg\"], p_value_limit=0.05\n",
    ").index\n",
    "print(\n",
    "    f\"These patients show significant differences for the paradigm '{paradigm}'' and turning_angle_deg:\\n\",\n",
    "    list(pats),\n",
    ")"
   ]
  },
  {
   "cell_type": "markdown",
   "metadata": {},
   "source": [
    "Now, let's see what's going on with the gait parameters of Pat_19 for example:"
   ]
  },
  {
   "cell_type": "code",
   "execution_count": 7,
   "metadata": {
    "tags": []
   },
   "outputs": [
    {
     "data": {
      "text/plain": [
       "configuration\n",
       "085    1.725107\n",
       "130    2.172212\n",
       "OFF   -2.379655\n",
       "Name: turning_angle_deg, dtype: float64"
      ]
     },
     "execution_count": 7,
     "metadata": {},
     "output_type": "execute_result"
    }
   ],
   "source": [
    "patient = \"Pat_19\"\n",
    "paradigm = \"free\"\n",
    "\n",
    "df = strides_dict[patient].set_index(\"test\")\n",
    "gait_paradigm = df.loc[paradigm]\n",
    "gait_paradigm.groupby(\"configuration\").mean()[\"turning_angle_deg\"]"
   ]
  },
  {
   "cell_type": "markdown",
   "metadata": {},
   "source": [
    "Potentially the patient turned into different directions in the different DBS configurations?"
   ]
  },
  {
   "cell_type": "markdown",
   "metadata": {},
   "source": [
    "## Explaining what is going to be shown next\n",
    "Next, we show the average number of patients for which we found a significance according to anova. It is averaged over all gait parameters for one specific gait test paradigm (e.g. \"free\"). Example:"
   ]
  },
  {
   "cell_type": "code",
   "execution_count": 8,
   "metadata": {
    "tags": []
   },
   "outputs": [
    {
     "name": "stdout",
     "output_type": "stream",
     "text": [
      "For this, on average gait parameters of 15.0 patients reach significance according to anova.\n",
      "Of course if e.g. stride length was significant for 5 patients and stride time as well for 5 patients, these could actually be 5 different patients in both cases. We ignore this for now.\n",
      "\n"
     ]
    },
    {
     "data": {
      "text/html": [
       "<div>\n",
       "<style scoped>\n",
       "    .dataframe tbody tr th:only-of-type {\n",
       "        vertical-align: middle;\n",
       "    }\n",
       "\n",
       "    .dataframe tbody tr th {\n",
       "        vertical-align: top;\n",
       "    }\n",
       "\n",
       "    .dataframe thead th {\n",
       "        text-align: right;\n",
       "    }\n",
       "</style>\n",
       "<table border=\"1\" class=\"dataframe\">\n",
       "  <thead>\n",
       "    <tr style=\"text-align: right;\">\n",
       "      <th></th>\n",
       "      <th>n_patients_significant</th>\n",
       "    </tr>\n",
       "  </thead>\n",
       "  <tbody>\n",
       "    <tr>\n",
       "      <th>Stride length</th>\n",
       "      <td>10</td>\n",
       "    </tr>\n",
       "    <tr>\n",
       "      <th>Stride time</th>\n",
       "      <td>20</td>\n",
       "    </tr>\n",
       "  </tbody>\n",
       "</table>\n",
       "</div>"
      ],
      "text/plain": [
       "               n_patients_significant\n",
       "Stride length                      10\n",
       "Stride time                        20"
      ]
     },
     "execution_count": 8,
     "metadata": {},
     "output_type": "execute_result"
    }
   ],
   "source": [
    "df = pd.DataFrame(\n",
    "    data=[10, 20],\n",
    "    columns=[\"n_patients_significant\"],\n",
    "    index=[\"Stride length\", \"Stride time\"],\n",
    ")\n",
    "print(\n",
    "    f\"For this, on average gait parameters of {df['n_patients_significant'].mean()} patients reach significance according to anova.\\n\"\n",
    "    \"Of course if e.g. stride length was significant for 5 patients and stride time as well for 5 patients, these could actually be 5 different patients in both cases. We ignore this for now.\\n\"\n",
    ")\n",
    "df"
   ]
  },
  {
   "cell_type": "markdown",
   "metadata": {},
   "source": [
    "## Show the conclusion of results"
   ]
  },
  {
   "cell_type": "code",
   "execution_count": 17,
   "metadata": {
    "tags": []
   },
   "outputs": [
    {
     "name": "stdout",
     "output_type": "stream",
     "text": [
      "For explanation where these values come from, please see the cell above this one (and its output).\n",
      "\n",
      "For 'slow':  On average, gait parameters of 17.3 patients (75.3%) reach significance according to anova.\n",
      "For 'normal':  On average, gait parameters of 16.3 patients (70.9%) reach significance according to anova.\n",
      "For 'fast':  On average, gait parameters of 14.8 patients (64.5%) reach significance according to anova.\n",
      "For 'tug_one':  On average, gait parameters of 15.5 patients (67.6%) reach significance according to anova.\n",
      "For 'free':  On average, gait parameters of 18.7 patients (81.3%) reach significance according to anova.\n",
      "For 'tug_two':  On average, gait parameters of 14.9 patients (64.9%) reach significance according to anova.\n"
     ]
    }
   ],
   "source": [
    "print(\n",
    "    \"For explanation where these values come from, please see the cell above this one (and its output).\\n\"\n",
    ")\n",
    "for paradigm in paradigms:\n",
    "    df = conclude_results(results_anova[paradigm], p_value_limit=0.05)\n",
    "    # display(df)\n",
    "    mean = df.mean()[\"n_patients_significant\"]\n",
    "    print(\n",
    "        f\"For '{paradigm}':\"\n",
    "        f\"  On average, gait parameters of {mean:.1f} patients ({mean/23*100:.1f}%) reach significance according to anova.\"\n",
    "    )"
   ]
  },
  {
   "cell_type": "code",
   "execution_count": null,
   "metadata": {},
   "outputs": [],
   "source": []
  }
 ],
 "metadata": {
  "kernelspec": {
   "display_name": "nb_dbs",
   "language": "python",
   "name": "nb_dbs"
  },
  "language_info": {
   "codemirror_mode": {
    "name": "ipython",
    "version": 3
   },
   "file_extension": ".py",
   "mimetype": "text/x-python",
   "name": "python",
   "nbconvert_exporter": "python",
   "pygments_lexer": "ipython3",
   "version": "3.7.11"
  }
 },
 "nbformat": 4,
 "nbformat_minor": 4
}
