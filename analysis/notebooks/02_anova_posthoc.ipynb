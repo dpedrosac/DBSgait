{
 "cells": [
  {
   "cell_type": "markdown",
   "id": "3a6fef1b-d250-469c-a981-a87e200bd6b1",
   "metadata": {},
   "source": [
    "# WARNING: this is work in progress, results may change\n",
    "\n",
    "To do:\n",
    "- clean up\n",
    "- test for normality before using posthoc ttest"
   ]
  },
  {
   "cell_type": "code",
   "execution_count": 1,
   "id": "60e0913b-7a73-4ac3-a65d-d7cfcd58abe6",
   "metadata": {},
   "outputs": [
    {
     "data": {
      "application/javascript": [
       "\n",
       "            setTimeout(function() {\n",
       "                var nbb_cell_id = 1;\n",
       "                var nbb_unformatted_code = \"import scikit_posthocs as sp\\nimport pandas as pd\\nimport pickle\\n\\n%load_ext nb_black\";\n",
       "                var nbb_formatted_code = \"import scikit_posthocs as sp\\nimport pandas as pd\\nimport pickle\\n\\n%load_ext nb_black\";\n",
       "                var nbb_cells = Jupyter.notebook.get_cells();\n",
       "                for (var i = 0; i < nbb_cells.length; ++i) {\n",
       "                    if (nbb_cells[i].input_prompt_number == nbb_cell_id) {\n",
       "                        if (nbb_cells[i].get_text() == nbb_unformatted_code) {\n",
       "                             nbb_cells[i].set_text(nbb_formatted_code);\n",
       "                        }\n",
       "                        break;\n",
       "                    }\n",
       "                }\n",
       "            }, 500);\n",
       "            "
      ],
      "text/plain": [
       "<IPython.core.display.Javascript object>"
      ]
     },
     "metadata": {},
     "output_type": "display_data"
    }
   ],
   "source": [
    "import scikit_posthocs as sp\n",
    "import pandas as pd\n",
    "import pickle\n",
    "\n",
    "%load_ext nb_black"
   ]
  },
  {
   "cell_type": "code",
   "execution_count": 2,
   "id": "1de8794f-7cd8-4b7d-ba2a-81a8ad193ab1",
   "metadata": {},
   "outputs": [
    {
     "data": {
      "application/javascript": [
       "\n",
       "            setTimeout(function() {\n",
       "                var nbb_cell_id = 2;\n",
       "                var nbb_unformatted_code = \"with open(\\\"../../results/anova_per_patient.pickle\\\", \\\"rb\\\") as handle:\\n     anova_dict = pickle.load(handle)\";\n",
       "                var nbb_formatted_code = \"with open(\\\"../../results/anova_per_patient.pickle\\\", \\\"rb\\\") as handle:\\n    anova_dict = pickle.load(handle)\";\n",
       "                var nbb_cells = Jupyter.notebook.get_cells();\n",
       "                for (var i = 0; i < nbb_cells.length; ++i) {\n",
       "                    if (nbb_cells[i].input_prompt_number == nbb_cell_id) {\n",
       "                        if (nbb_cells[i].get_text() == nbb_unformatted_code) {\n",
       "                             nbb_cells[i].set_text(nbb_formatted_code);\n",
       "                        }\n",
       "                        break;\n",
       "                    }\n",
       "                }\n",
       "            }, 500);\n",
       "            "
      ],
      "text/plain": [
       "<IPython.core.display.Javascript object>"
      ]
     },
     "metadata": {},
     "output_type": "display_data"
    }
   ],
   "source": [
    "with open(\"../../results/anova_per_patient.pickle\", \"rb\") as handle:\n",
    "     anova_dict = pickle.load(handle)"
   ]
  },
  {
   "cell_type": "markdown",
   "id": "269f4169-a147-44cf-a155-df0dcd54cfbd",
   "metadata": {},
   "source": [
    "## Select DBS configurations to use"
   ]
  },
  {
   "cell_type": "code",
   "execution_count": 3,
   "id": "0899b20a-3047-4f6b-a61b-90c027bbe1c6",
   "metadata": {},
   "outputs": [
    {
     "name": "stdout",
     "output_type": "stream",
     "text": [
      "Configurations that will be used for ANOVA: frequencies (OFF, 030, 085, 130)\n",
      "We are using the frequencies here, but we can do the same for pulse width or intensity, if necessary.\n"
     ]
    },
    {
     "data": {
      "application/javascript": [
       "\n",
       "            setTimeout(function() {\n",
       "                var nbb_cell_id = 3;\n",
       "                var nbb_unformatted_code = \"configs = {\\n    \\\"frequencies\\\": [\\\"OFF\\\", \\\"030\\\", \\\"085\\\", \\\"130\\\"],\\n    \\\"intensities\\\": [\\\"OFF\\\", \\\"033\\\", \\\"066\\\", \\\"100\\\"],\\n    \\\"pulse_widths\\\": [\\\"OFF\\\", \\\"040\\\", \\\"090\\\"],\\n}\\ndbs_parameter = \\\"frequencies\\\"\\nselected_configs = configs[dbs_parameter]\\nprint(\\n    f\\\"Configurations that will be used for ANOVA: {dbs_parameter} ({', '.join(selected_configs)})\\\"\\n)\\nprint(\\n    f\\\"We are using the frequencies here, but we can do the same for pulse width or intensity, if necessary.\\\"\\n)\";\n",
       "                var nbb_formatted_code = \"configs = {\\n    \\\"frequencies\\\": [\\\"OFF\\\", \\\"030\\\", \\\"085\\\", \\\"130\\\"],\\n    \\\"intensities\\\": [\\\"OFF\\\", \\\"033\\\", \\\"066\\\", \\\"100\\\"],\\n    \\\"pulse_widths\\\": [\\\"OFF\\\", \\\"040\\\", \\\"090\\\"],\\n}\\ndbs_parameter = \\\"frequencies\\\"\\nselected_configs = configs[dbs_parameter]\\nprint(\\n    f\\\"Configurations that will be used for ANOVA: {dbs_parameter} ({', '.join(selected_configs)})\\\"\\n)\\nprint(\\n    f\\\"We are using the frequencies here, but we can do the same for pulse width or intensity, if necessary.\\\"\\n)\";\n",
       "                var nbb_cells = Jupyter.notebook.get_cells();\n",
       "                for (var i = 0; i < nbb_cells.length; ++i) {\n",
       "                    if (nbb_cells[i].input_prompt_number == nbb_cell_id) {\n",
       "                        if (nbb_cells[i].get_text() == nbb_unformatted_code) {\n",
       "                             nbb_cells[i].set_text(nbb_formatted_code);\n",
       "                        }\n",
       "                        break;\n",
       "                    }\n",
       "                }\n",
       "            }, 500);\n",
       "            "
      ],
      "text/plain": [
       "<IPython.core.display.Javascript object>"
      ]
     },
     "metadata": {},
     "output_type": "display_data"
    }
   ],
   "source": [
    "configs = {\n",
    "    \"frequencies\": [\"OFF\", \"030\", \"085\", \"130\"],\n",
    "    \"intensities\": [\"OFF\", \"033\", \"066\", \"100\"],\n",
    "    \"pulse_widths\": [\"OFF\", \"040\", \"090\"],\n",
    "}\n",
    "dbs_parameter = \"frequencies\"\n",
    "selected_configs = configs[dbs_parameter]\n",
    "print(\n",
    "    f\"Configurations that will be used for ANOVA: {dbs_parameter} ({', '.join(selected_configs)})\"\n",
    ")\n",
    "print(\n",
    "    f\"We are using the frequencies here, but we can do the same for pulse width or intensity, if necessary.\"\n",
    ")"
   ]
  },
  {
   "cell_type": "markdown",
   "id": "31ad8769-a653-46dd-a1a6-7f59223ea0d2",
   "metadata": {},
   "source": [
    "## Load data (not visible in html)"
   ]
  },
  {
   "cell_type": "code",
   "execution_count": 4,
   "id": "ce4e540d-a34e-46d3-8af1-3dee96a3d05b",
   "metadata": {},
   "outputs": [
    {
     "data": {
      "application/javascript": [
       "\n",
       "            setTimeout(function() {\n",
       "                var nbb_cell_id = 4;\n",
       "                var nbb_unformatted_code = \"stride_params = pd.read_csv(\\\"../../data/stride_params.csv\\\")\\nstride_params.drop(\\\"time_stamp_s\\\", axis=1, inplace=True)\\n\\ndf = stride_params.set_index(\\\"configuration\\\")\\ndf = df.loc[selected_configs]\\ndf = df.reset_index()\\nconfig = df[\\\"configuration\\\"]\\ndf.drop(\\\"configuration\\\", axis=1, inplace=True)\\ndf.insert(1, \\\"configuration\\\", config)\\n\\nstride_params = df\\n\\nstride_params[\\n    (stride_params[\\\"patient_id\\\"] == \\\"Pat_03\\\")\\n    & (stride_params[\\\"configuration\\\"] == \\\"040\\\")\\n]\\nstride_params.drop(\\\"preferred\\\", axis=1, inplace=True)\\navailable_gait_parameters = stride_params.columns[5:]\\nstrides_dict = {\\n    patient: stride_params[stride_params[\\\"patient_id\\\"] == patient]\\n    for patient in set(stride_params[\\\"patient_id\\\"])\\n}\";\n",
       "                var nbb_formatted_code = \"stride_params = pd.read_csv(\\\"../../data/stride_params.csv\\\")\\nstride_params.drop(\\\"time_stamp_s\\\", axis=1, inplace=True)\\n\\ndf = stride_params.set_index(\\\"configuration\\\")\\ndf = df.loc[selected_configs]\\ndf = df.reset_index()\\nconfig = df[\\\"configuration\\\"]\\ndf.drop(\\\"configuration\\\", axis=1, inplace=True)\\ndf.insert(1, \\\"configuration\\\", config)\\n\\nstride_params = df\\n\\nstride_params[\\n    (stride_params[\\\"patient_id\\\"] == \\\"Pat_03\\\")\\n    & (stride_params[\\\"configuration\\\"] == \\\"040\\\")\\n]\\nstride_params.drop(\\\"preferred\\\", axis=1, inplace=True)\\navailable_gait_parameters = stride_params.columns[5:]\\nstrides_dict = {\\n    patient: stride_params[stride_params[\\\"patient_id\\\"] == patient]\\n    for patient in set(stride_params[\\\"patient_id\\\"])\\n}\";\n",
       "                var nbb_cells = Jupyter.notebook.get_cells();\n",
       "                for (var i = 0; i < nbb_cells.length; ++i) {\n",
       "                    if (nbb_cells[i].input_prompt_number == nbb_cell_id) {\n",
       "                        if (nbb_cells[i].get_text() == nbb_unformatted_code) {\n",
       "                             nbb_cells[i].set_text(nbb_formatted_code);\n",
       "                        }\n",
       "                        break;\n",
       "                    }\n",
       "                }\n",
       "            }, 500);\n",
       "            "
      ],
      "text/plain": [
       "<IPython.core.display.Javascript object>"
      ]
     },
     "metadata": {},
     "output_type": "display_data"
    }
   ],
   "source": [
    "stride_params = pd.read_csv(\"../../data/stride_params.csv\")\n",
    "stride_params.drop(\"time_stamp_s\", axis=1, inplace=True)\n",
    "\n",
    "df = stride_params.set_index(\"configuration\")\n",
    "df = df.loc[selected_configs]\n",
    "df = df.reset_index()\n",
    "config = df[\"configuration\"]\n",
    "df.drop(\"configuration\", axis=1, inplace=True)\n",
    "df.insert(1, \"configuration\", config)\n",
    "\n",
    "stride_params = df\n",
    "\n",
    "stride_params[\n",
    "    (stride_params[\"patient_id\"] == \"Pat_03\")\n",
    "    & (stride_params[\"configuration\"] == \"040\")\n",
    "]\n",
    "stride_params.drop(\"preferred\", axis=1, inplace=True)\n",
    "available_gait_parameters = stride_params.columns[5:]\n",
    "strides_dict = {\n",
    "    patient: stride_params[stride_params[\"patient_id\"] == patient]\n",
    "    for patient in set(stride_params[\"patient_id\"])\n",
    "}"
   ]
  },
  {
   "cell_type": "code",
   "execution_count": 5,
   "id": "aad2be6d-0d7a-4483-8c94-8093a2416784",
   "metadata": {},
   "outputs": [
    {
     "data": {
      "application/javascript": [
       "\n",
       "            setTimeout(function() {\n",
       "                var nbb_cell_id = 5;\n",
       "                var nbb_unformatted_code = \"# https://pythonrepo.com/repo/maximtrp-scikit-posthocs-python-science-and-data-analysis\\n\\ngait_test = \\\"free\\\"\\ngait_parameter = \\\"stride_length_cm\\\"\\n#gait_parameter = \\\"max_sensor_lift_cm\\\"\\nanovas = anova_dict[gait_test][gait_parameter]\\nposthocs = {}\\nno_difference_feet = []\\n\\nfor patient in anovas.index:\\n    # posthocs[patient] = pd.DataFrame()\\n    posthocs[patient] = {}\\n    df = stride_params[stride_params[\\\"patient_id\\\"]==patient]\\n    for column in anovas.columns:\\n        foot = column[1]\\n        #if all(anovas.loc[patient] < 0.05):\\n        if anovas.at[patient, column] < 0.05:\\n            params_foot = df[(df['test']==gait_test)]# & (df[\\\"foot\\\"] == foot)]\\n            try:\\n                posthocs[patient][foot] = sp.posthoc_ttest(params_foot, val_col=gait_parameter, group_col=\\\"configuration\\\", p_adjust=\\\"holm\\\")              \\n            except ZeroDivisionError:\\n                continue\\n            #posthocs[patient] = sp.posthoc_ttest(params_foot, val_col=\\\"stride_length_cm\\\", group_col=\\\"configuration\\\", p_adjust=\\\"holm\\\")              \\n        else:\\n            no_difference_feet.append((patient, column))\";\n",
       "                var nbb_formatted_code = \"# https://pythonrepo.com/repo/maximtrp-scikit-posthocs-python-science-and-data-analysis\\n\\ngait_test = \\\"free\\\"\\ngait_parameter = \\\"stride_length_cm\\\"\\n# gait_parameter = \\\"max_sensor_lift_cm\\\"\\nanovas = anova_dict[gait_test][gait_parameter]\\nposthocs = {}\\nno_difference_feet = []\\n\\nfor patient in anovas.index:\\n    # posthocs[patient] = pd.DataFrame()\\n    posthocs[patient] = {}\\n    df = stride_params[stride_params[\\\"patient_id\\\"] == patient]\\n    for column in anovas.columns:\\n        foot = column[1]\\n        # if all(anovas.loc[patient] < 0.05):\\n        if anovas.at[patient, column] < 0.05:\\n            params_foot = df[(df[\\\"test\\\"] == gait_test)]  # & (df[\\\"foot\\\"] == foot)]\\n            try:\\n                posthocs[patient][foot] = sp.posthoc_ttest(\\n                    params_foot,\\n                    val_col=gait_parameter,\\n                    group_col=\\\"configuration\\\",\\n                    p_adjust=\\\"holm\\\",\\n                )\\n            except ZeroDivisionError:\\n                continue\\n            # posthocs[patient] = sp.posthoc_ttest(params_foot, val_col=\\\"stride_length_cm\\\", group_col=\\\"configuration\\\", p_adjust=\\\"holm\\\")\\n        else:\\n            no_difference_feet.append((patient, column))\";\n",
       "                var nbb_cells = Jupyter.notebook.get_cells();\n",
       "                for (var i = 0; i < nbb_cells.length; ++i) {\n",
       "                    if (nbb_cells[i].input_prompt_number == nbb_cell_id) {\n",
       "                        if (nbb_cells[i].get_text() == nbb_unformatted_code) {\n",
       "                             nbb_cells[i].set_text(nbb_formatted_code);\n",
       "                        }\n",
       "                        break;\n",
       "                    }\n",
       "                }\n",
       "            }, 500);\n",
       "            "
      ],
      "text/plain": [
       "<IPython.core.display.Javascript object>"
      ]
     },
     "metadata": {},
     "output_type": "display_data"
    }
   ],
   "source": [
    "# https://pythonrepo.com/repo/maximtrp-scikit-posthocs-python-science-and-data-analysis\n",
    "\n",
    "gait_test = \"free\"\n",
    "gait_parameter = \"stride_length_cm\"\n",
    "#gait_parameter = \"max_sensor_lift_cm\"\n",
    "anovas = anova_dict[gait_test][gait_parameter]\n",
    "posthocs = {}\n",
    "no_difference_feet = []\n",
    "\n",
    "for patient in anovas.index:\n",
    "    # posthocs[patient] = pd.DataFrame()\n",
    "    posthocs[patient] = {}\n",
    "    df = stride_params[stride_params[\"patient_id\"]==patient]\n",
    "    for column in anovas.columns:\n",
    "        foot = column[1]\n",
    "        #if all(anovas.loc[patient] < 0.05):\n",
    "        if anovas.at[patient, column] < 0.05:\n",
    "            params_foot = df[(df['test']==gait_test)]# & (df[\"foot\"] == foot)]\n",
    "            try:\n",
    "                posthocs[patient][foot] = sp.posthoc_ttest(params_foot, val_col=gait_parameter, group_col=\"configuration\", p_adjust=\"holm\")              \n",
    "            except ZeroDivisionError:\n",
    "                continue\n",
    "            #posthocs[patient] = sp.posthoc_ttest(params_foot, val_col=\"stride_length_cm\", group_col=\"configuration\", p_adjust=\"holm\")              \n",
    "        else:\n",
    "            no_difference_feet.append((patient, column))"
   ]
  },
  {
   "cell_type": "code",
   "execution_count": 6,
   "id": "92676115-323d-451d-9262-7ece5766a1f8",
   "metadata": {},
   "outputs": [
    {
     "data": {
      "application/javascript": [
       "\n",
       "            setTimeout(function() {\n",
       "                var nbb_cell_id = 6;\n",
       "                var nbb_unformatted_code = \"no_off_feet = []\\nttest_results = {}\\n\\nunusable_ttests = pd.DataFrame(columns=[c for c in selected_configs if c!=\\\"OFF\\\"])\\nfor patient in posthocs.keys():\\n    ttest_results[patient] = {}\\n    for foot in posthocs[patient].keys():\\n        if not \\\"OFF\\\" in posthocs[patient][foot].index:\\n            no_off_feet.append((patient, foot))\\n            continue\\n        results = posthocs[patient][foot][\\\"OFF\\\"].drop(\\\"OFF\\\")\\n        significant_results = results[results<0.05]\\n        ttest_results[patient][foot] = significant_results\\n    if not ttest_results[patient]:\\n        ttest_results.pop(patient)\";\n",
       "                var nbb_formatted_code = \"no_off_feet = []\\nttest_results = {}\\n\\nunusable_ttests = pd.DataFrame(columns=[c for c in selected_configs if c != \\\"OFF\\\"])\\nfor patient in posthocs.keys():\\n    ttest_results[patient] = {}\\n    for foot in posthocs[patient].keys():\\n        if not \\\"OFF\\\" in posthocs[patient][foot].index:\\n            no_off_feet.append((patient, foot))\\n            continue\\n        results = posthocs[patient][foot][\\\"OFF\\\"].drop(\\\"OFF\\\")\\n        significant_results = results[results < 0.05]\\n        ttest_results[patient][foot] = significant_results\\n    if not ttest_results[patient]:\\n        ttest_results.pop(patient)\";\n",
       "                var nbb_cells = Jupyter.notebook.get_cells();\n",
       "                for (var i = 0; i < nbb_cells.length; ++i) {\n",
       "                    if (nbb_cells[i].input_prompt_number == nbb_cell_id) {\n",
       "                        if (nbb_cells[i].get_text() == nbb_unformatted_code) {\n",
       "                             nbb_cells[i].set_text(nbb_formatted_code);\n",
       "                        }\n",
       "                        break;\n",
       "                    }\n",
       "                }\n",
       "            }, 500);\n",
       "            "
      ],
      "text/plain": [
       "<IPython.core.display.Javascript object>"
      ]
     },
     "metadata": {},
     "output_type": "display_data"
    }
   ],
   "source": [
    "no_off_feet = []\n",
    "ttest_results = {}\n",
    "\n",
    "unusable_ttests = pd.DataFrame(columns=[c for c in selected_configs if c!=\"OFF\"])\n",
    "for patient in posthocs.keys():\n",
    "    ttest_results[patient] = {}\n",
    "    for foot in posthocs[patient].keys():\n",
    "        if not \"OFF\" in posthocs[patient][foot].index:\n",
    "            no_off_feet.append((patient, foot))\n",
    "            continue\n",
    "        results = posthocs[patient][foot][\"OFF\"].drop(\"OFF\")\n",
    "        significant_results = results[results<0.05]\n",
    "        ttest_results[patient][foot] = significant_results\n",
    "    if not ttest_results[patient]:\n",
    "        ttest_results.pop(patient)"
   ]
  },
  {
   "cell_type": "code",
   "execution_count": 7,
   "id": "63d9581b-6fbd-49e9-b518-44a6be2e1a29",
   "metadata": {},
   "outputs": [
    {
     "data": {
      "application/javascript": [
       "\n",
       "            setTimeout(function() {\n",
       "                var nbb_cell_id = 7;\n",
       "                var nbb_unformatted_code = \"def get_change(data_patient: pd.DataFrame, config:str, test: str, gait_para: str) -> int:\\n    \\\"\\\"\\\"Find the change from OFF to config in the given gait parameter.\\n    \\n    Parameters\\n    ----------\\n    data_patient\\n        all gait parameters for all strides of a specific patient\\n    \\n    config\\n        something like \\\"085\\\"\\n        \\n    test\\n        one of the used walking tests, like slow, fast, free,...\\n        \\n    gait_parameter\\n        something like `stride_length_cm`\\n        \\n    Returns\\n    -------\\n    result\\n        difference (OFF - config)\\n    \\\"\\\"\\\"\\n    \\n    data_config = data_patient[(data_patient[\\\"test\\\"]==test) & (data_patient[\\\"configuration\\\"]==config)][gait_para]\\n    data_off = data_patient[(data_patient[\\\"test\\\"]==test) & (data_patient[\\\"configuration\\\"]==\\\"OFF\\\")][gait_para]\\n    return data_config.mean() - data_off.mean()\";\n",
       "                var nbb_formatted_code = \"def get_change(\\n    data_patient: pd.DataFrame, config: str, test: str, gait_para: str\\n) -> int:\\n    \\\"\\\"\\\"Find the change from OFF to config in the given gait parameter.\\n\\n    Parameters\\n    ----------\\n    data_patient\\n        all gait parameters for all strides of a specific patient\\n\\n    config\\n        something like \\\"085\\\"\\n\\n    test\\n        one of the used walking tests, like slow, fast, free,...\\n\\n    gait_parameter\\n        something like `stride_length_cm`\\n\\n    Returns\\n    -------\\n    result\\n        difference (OFF - config)\\n    \\\"\\\"\\\"\\n\\n    data_config = data_patient[\\n        (data_patient[\\\"test\\\"] == test) & (data_patient[\\\"configuration\\\"] == config)\\n    ][gait_para]\\n    data_off = data_patient[\\n        (data_patient[\\\"test\\\"] == test) & (data_patient[\\\"configuration\\\"] == \\\"OFF\\\")\\n    ][gait_para]\\n    return data_config.mean() - data_off.mean()\";\n",
       "                var nbb_cells = Jupyter.notebook.get_cells();\n",
       "                for (var i = 0; i < nbb_cells.length; ++i) {\n",
       "                    if (nbb_cells[i].input_prompt_number == nbb_cell_id) {\n",
       "                        if (nbb_cells[i].get_text() == nbb_unformatted_code) {\n",
       "                             nbb_cells[i].set_text(nbb_formatted_code);\n",
       "                        }\n",
       "                        break;\n",
       "                    }\n",
       "                }\n",
       "            }, 500);\n",
       "            "
      ],
      "text/plain": [
       "<IPython.core.display.Javascript object>"
      ]
     },
     "metadata": {},
     "output_type": "display_data"
    }
   ],
   "source": [
    "def get_change(data_patient: pd.DataFrame, config:str, test: str, gait_para: str) -> int:\n",
    "    \"\"\"Find the change from OFF to config in the given gait parameter.\n",
    "    \n",
    "    Parameters\n",
    "    ----------\n",
    "    data_patient\n",
    "        all gait parameters for all strides of a specific patient\n",
    "    \n",
    "    config\n",
    "        something like \"085\"\n",
    "        \n",
    "    test\n",
    "        one of the used walking tests, like slow, fast, free,...\n",
    "        \n",
    "    gait_parameter\n",
    "        something like `stride_length_cm`\n",
    "        \n",
    "    Returns\n",
    "    -------\n",
    "    result\n",
    "        difference (OFF - config)\n",
    "    \"\"\"\n",
    "    \n",
    "    data_config = data_patient[(data_patient[\"test\"]==test) & (data_patient[\"configuration\"]==config)][gait_para]\n",
    "    data_off = data_patient[(data_patient[\"test\"]==test) & (data_patient[\"configuration\"]==\"OFF\")][gait_para]\n",
    "    return data_config.mean() - data_off.mean()"
   ]
  },
  {
   "cell_type": "code",
   "execution_count": 8,
   "id": "5751762c-67f6-42ee-9401-c0a8cd2c8a17",
   "metadata": {},
   "outputs": [
    {
     "data": {
      "application/javascript": [
       "\n",
       "            setTimeout(function() {\n",
       "                var nbb_cell_id = 8;\n",
       "                var nbb_unformatted_code = \"changes_overview = pd.DataFrame()\\nconfigs = columns=[c for c in selected_configs if c!=\\\"OFF\\\"]\\nfor patient, data in ttest_results.items():\\n    #print(f\\\"\\\\n\\\\n {patient}\\\")\\n    for foot, foot_data in data.items():   \\n        #print(f\\\"\\\\n {foot}\\\")\\n        change = {}\\n        for config in configs:#foot_data.index:\\n            if foot_data.get(config, False):\\n                df = stride_params[(stride_params[\\\"patient_id\\\"]==patient) & (stride_params[\\\"foot\\\"]==foot)]\\n                change[config] = get_change(df, config, gait_test, gait_parameter)\\n            else:\\n                change[config] = None\\n            #changes_overview.at[(patient, foot)][config] = result\\n        idx = pd.MultiIndex.from_tuples([(patient, foot)], names=[\\\"patient\\\", \\\"foot\\\"])\\n        d = pd.DataFrame.from_dict(change, orient='index', columns=idx).T\\n        changes_overview = changes_overview.append(d)\";\n",
       "                var nbb_formatted_code = \"changes_overview = pd.DataFrame()\\nconfigs = columns = [c for c in selected_configs if c != \\\"OFF\\\"]\\nfor patient, data in ttest_results.items():\\n    # print(f\\\"\\\\n\\\\n {patient}\\\")\\n    for foot, foot_data in data.items():\\n        # print(f\\\"\\\\n {foot}\\\")\\n        change = {}\\n        for config in configs:  # foot_data.index:\\n            if foot_data.get(config, False):\\n                df = stride_params[\\n                    (stride_params[\\\"patient_id\\\"] == patient)\\n                    & (stride_params[\\\"foot\\\"] == foot)\\n                ]\\n                change[config] = get_change(df, config, gait_test, gait_parameter)\\n            else:\\n                change[config] = None\\n            # changes_overview.at[(patient, foot)][config] = result\\n        idx = pd.MultiIndex.from_tuples([(patient, foot)], names=[\\\"patient\\\", \\\"foot\\\"])\\n        d = pd.DataFrame.from_dict(change, orient=\\\"index\\\", columns=idx).T\\n        changes_overview = changes_overview.append(d)\";\n",
       "                var nbb_cells = Jupyter.notebook.get_cells();\n",
       "                for (var i = 0; i < nbb_cells.length; ++i) {\n",
       "                    if (nbb_cells[i].input_prompt_number == nbb_cell_id) {\n",
       "                        if (nbb_cells[i].get_text() == nbb_unformatted_code) {\n",
       "                             nbb_cells[i].set_text(nbb_formatted_code);\n",
       "                        }\n",
       "                        break;\n",
       "                    }\n",
       "                }\n",
       "            }, 500);\n",
       "            "
      ],
      "text/plain": [
       "<IPython.core.display.Javascript object>"
      ]
     },
     "metadata": {},
     "output_type": "display_data"
    }
   ],
   "source": [
    "changes_overview = pd.DataFrame()\n",
    "configs = columns=[c for c in selected_configs if c!=\"OFF\"]\n",
    "for patient, data in ttest_results.items():\n",
    "    #print(f\"\\n\\n {patient}\")\n",
    "    for foot, foot_data in data.items():   \n",
    "        #print(f\"\\n {foot}\")\n",
    "        change = {}\n",
    "        for config in configs:#foot_data.index:\n",
    "            if foot_data.get(config, False):\n",
    "                df = stride_params[(stride_params[\"patient_id\"]==patient) & (stride_params[\"foot\"]==foot)]\n",
    "                change[config] = get_change(df, config, gait_test, gait_parameter)\n",
    "            else:\n",
    "                change[config] = None\n",
    "            #changes_overview.at[(patient, foot)][config] = result\n",
    "        idx = pd.MultiIndex.from_tuples([(patient, foot)], names=[\"patient\", \"foot\"])\n",
    "        d = pd.DataFrame.from_dict(change, orient='index', columns=idx).T\n",
    "        changes_overview = changes_overview.append(d)"
   ]
  },
  {
   "cell_type": "markdown",
   "id": "9f25b43b-bba7-438c-9e8c-d762b44955d8",
   "metadata": {},
   "source": [
    "# Post hoc"
   ]
  },
  {
   "cell_type": "code",
   "execution_count": 9,
   "id": "1534cdb5-0c9d-40fd-aba4-19838f57398e",
   "metadata": {},
   "outputs": [
    {
     "name": "stdout",
     "output_type": "stream",
     "text": [
      "nan = nicht signifikant laut posthoc analyse\n",
      "Werte = Änderung von OFF im Vergleich zur DBS Einstellung bezüglich des Parameters stride_length_cm\n",
      "--> positiver Wert, z.b. 3.6, bei 085 bedeutet, dass stride_length_cm bei 085 um 3.6 cm höher war.\n"
     ]
    },
    {
     "data": {
      "text/html": [
       "<style type=\"text/css\">\n",
       "#T_a4b5a_row0_col2, #T_a4b5a_row1_col2, #T_a4b5a_row6_col0, #T_a4b5a_row6_col1, #T_a4b5a_row6_col2, #T_a4b5a_row7_col0, #T_a4b5a_row7_col1, #T_a4b5a_row7_col2, #T_a4b5a_row8_col0, #T_a4b5a_row11_col0, #T_a4b5a_row12_col0, #T_a4b5a_row15_col0, #T_a4b5a_row15_col1, #T_a4b5a_row16_col0, #T_a4b5a_row16_col1, #T_a4b5a_row21_col2, #T_a4b5a_row22_col0, #T_a4b5a_row22_col1, #T_a4b5a_row22_col2, #T_a4b5a_row23_col1, #T_a4b5a_row24_col1, #T_a4b5a_row27_col0, #T_a4b5a_row28_col0 {\n",
       "  color: red;\n",
       "}\n",
       "</style>\n",
       "<table id=\"T_a4b5a_\">\n",
       "  <thead>\n",
       "    <tr>\n",
       "      <th class=\"blank\" >&nbsp;</th>\n",
       "      <th class=\"blank level0\" >&nbsp;</th>\n",
       "      <th class=\"col_heading level0 col0\" >030</th>\n",
       "      <th class=\"col_heading level0 col1\" >085</th>\n",
       "      <th class=\"col_heading level0 col2\" >130</th>\n",
       "    </tr>\n",
       "    <tr>\n",
       "      <th class=\"index_name level0\" >patient</th>\n",
       "      <th class=\"index_name level1\" >foot</th>\n",
       "      <th class=\"blank col0\" >&nbsp;</th>\n",
       "      <th class=\"blank col1\" >&nbsp;</th>\n",
       "      <th class=\"blank col2\" >&nbsp;</th>\n",
       "    </tr>\n",
       "  </thead>\n",
       "  <tbody>\n",
       "    <tr>\n",
       "      <th id=\"T_a4b5a_level0_row0\" class=\"row_heading level0 row0\" rowspan=\"2\">Pat_19</th>\n",
       "      <th id=\"T_a4b5a_level1_row0\" class=\"row_heading level1 row0\" >LeftFoot</th>\n",
       "      <td id=\"T_a4b5a_row0_col0\" class=\"data row0 col0\" >nan</td>\n",
       "      <td id=\"T_a4b5a_row0_col1\" class=\"data row0 col1\" >3.602469</td>\n",
       "      <td id=\"T_a4b5a_row0_col2\" class=\"data row0 col2\" >-9.809545</td>\n",
       "    </tr>\n",
       "    <tr>\n",
       "      <th id=\"T_a4b5a_level1_row1\" class=\"row_heading level1 row1\" >RightFoot</th>\n",
       "      <td id=\"T_a4b5a_row1_col0\" class=\"data row1 col0\" >nan</td>\n",
       "      <td id=\"T_a4b5a_row1_col1\" class=\"data row1 col1\" >3.604404</td>\n",
       "      <td id=\"T_a4b5a_row1_col2\" class=\"data row1 col2\" >-11.578353</td>\n",
       "    </tr>\n",
       "    <tr>\n",
       "      <th id=\"T_a4b5a_level0_row2\" class=\"row_heading level0 row2\" rowspan=\"2\">Pat_24</th>\n",
       "      <th id=\"T_a4b5a_level1_row2\" class=\"row_heading level1 row2\" >LeftFoot</th>\n",
       "      <td id=\"T_a4b5a_row2_col0\" class=\"data row2 col0\" >8.879320</td>\n",
       "      <td id=\"T_a4b5a_row2_col1\" class=\"data row2 col1\" >10.495786</td>\n",
       "      <td id=\"T_a4b5a_row2_col2\" class=\"data row2 col2\" >7.684172</td>\n",
       "    </tr>\n",
       "    <tr>\n",
       "      <th id=\"T_a4b5a_level1_row3\" class=\"row_heading level1 row3\" >RightFoot</th>\n",
       "      <td id=\"T_a4b5a_row3_col0\" class=\"data row3 col0\" >7.414912</td>\n",
       "      <td id=\"T_a4b5a_row3_col1\" class=\"data row3 col1\" >9.832450</td>\n",
       "      <td id=\"T_a4b5a_row3_col2\" class=\"data row3 col2\" >7.364137</td>\n",
       "    </tr>\n",
       "    <tr>\n",
       "      <th id=\"T_a4b5a_level0_row4\" class=\"row_heading level0 row4\" rowspan=\"2\">Pat_18</th>\n",
       "      <th id=\"T_a4b5a_level1_row4\" class=\"row_heading level1 row4\" >LeftFoot</th>\n",
       "      <td id=\"T_a4b5a_row4_col0\" class=\"data row4 col0\" >6.867102</td>\n",
       "      <td id=\"T_a4b5a_row4_col1\" class=\"data row4 col1\" >11.185796</td>\n",
       "      <td id=\"T_a4b5a_row4_col2\" class=\"data row4 col2\" >9.055064</td>\n",
       "    </tr>\n",
       "    <tr>\n",
       "      <th id=\"T_a4b5a_level1_row5\" class=\"row_heading level1 row5\" >RightFoot</th>\n",
       "      <td id=\"T_a4b5a_row5_col0\" class=\"data row5 col0\" >7.996458</td>\n",
       "      <td id=\"T_a4b5a_row5_col1\" class=\"data row5 col1\" >11.304068</td>\n",
       "      <td id=\"T_a4b5a_row5_col2\" class=\"data row5 col2\" >10.615570</td>\n",
       "    </tr>\n",
       "    <tr>\n",
       "      <th id=\"T_a4b5a_level0_row6\" class=\"row_heading level0 row6\" rowspan=\"2\">Pat_05</th>\n",
       "      <th id=\"T_a4b5a_level1_row6\" class=\"row_heading level1 row6\" >LeftFoot</th>\n",
       "      <td id=\"T_a4b5a_row6_col0\" class=\"data row6 col0\" >-16.206375</td>\n",
       "      <td id=\"T_a4b5a_row6_col1\" class=\"data row6 col1\" >-14.625518</td>\n",
       "      <td id=\"T_a4b5a_row6_col2\" class=\"data row6 col2\" >-10.056965</td>\n",
       "    </tr>\n",
       "    <tr>\n",
       "      <th id=\"T_a4b5a_level1_row7\" class=\"row_heading level1 row7\" >RightFoot</th>\n",
       "      <td id=\"T_a4b5a_row7_col0\" class=\"data row7 col0\" >-15.900016</td>\n",
       "      <td id=\"T_a4b5a_row7_col1\" class=\"data row7 col1\" >-12.503739</td>\n",
       "      <td id=\"T_a4b5a_row7_col2\" class=\"data row7 col2\" >-2.350539</td>\n",
       "    </tr>\n",
       "    <tr>\n",
       "      <th id=\"T_a4b5a_level0_row8\" class=\"row_heading level0 row8\" >Pat_12</th>\n",
       "      <th id=\"T_a4b5a_level1_row8\" class=\"row_heading level1 row8\" >LeftFoot</th>\n",
       "      <td id=\"T_a4b5a_row8_col0\" class=\"data row8 col0\" >-3.947780</td>\n",
       "      <td id=\"T_a4b5a_row8_col1\" class=\"data row8 col1\" >nan</td>\n",
       "      <td id=\"T_a4b5a_row8_col2\" class=\"data row8 col2\" >nan</td>\n",
       "    </tr>\n",
       "    <tr>\n",
       "      <th id=\"T_a4b5a_level0_row9\" class=\"row_heading level0 row9\" rowspan=\"2\">Pat_23</th>\n",
       "      <th id=\"T_a4b5a_level1_row9\" class=\"row_heading level1 row9\" >LeftFoot</th>\n",
       "      <td id=\"T_a4b5a_row9_col0\" class=\"data row9 col0\" >nan</td>\n",
       "      <td id=\"T_a4b5a_row9_col1\" class=\"data row9 col1\" >14.374343</td>\n",
       "      <td id=\"T_a4b5a_row9_col2\" class=\"data row9 col2\" >7.528135</td>\n",
       "    </tr>\n",
       "    <tr>\n",
       "      <th id=\"T_a4b5a_level1_row10\" class=\"row_heading level1 row10\" >RightFoot</th>\n",
       "      <td id=\"T_a4b5a_row10_col0\" class=\"data row10 col0\" >nan</td>\n",
       "      <td id=\"T_a4b5a_row10_col1\" class=\"data row10 col1\" >11.745648</td>\n",
       "      <td id=\"T_a4b5a_row10_col2\" class=\"data row10 col2\" >6.412626</td>\n",
       "    </tr>\n",
       "    <tr>\n",
       "      <th id=\"T_a4b5a_level0_row11\" class=\"row_heading level0 row11\" rowspan=\"2\">Pat_04</th>\n",
       "      <th id=\"T_a4b5a_level1_row11\" class=\"row_heading level1 row11\" >LeftFoot</th>\n",
       "      <td id=\"T_a4b5a_row11_col0\" class=\"data row11 col0\" >-10.626117</td>\n",
       "      <td id=\"T_a4b5a_row11_col1\" class=\"data row11 col1\" >nan</td>\n",
       "      <td id=\"T_a4b5a_row11_col2\" class=\"data row11 col2\" >12.964666</td>\n",
       "    </tr>\n",
       "    <tr>\n",
       "      <th id=\"T_a4b5a_level1_row12\" class=\"row_heading level1 row12\" >RightFoot</th>\n",
       "      <td id=\"T_a4b5a_row12_col0\" class=\"data row12 col0\" >-11.507740</td>\n",
       "      <td id=\"T_a4b5a_row12_col1\" class=\"data row12 col1\" >nan</td>\n",
       "      <td id=\"T_a4b5a_row12_col2\" class=\"data row12 col2\" >12.685051</td>\n",
       "    </tr>\n",
       "    <tr>\n",
       "      <th id=\"T_a4b5a_level0_row13\" class=\"row_heading level0 row13\" rowspan=\"2\">Pat_21</th>\n",
       "      <th id=\"T_a4b5a_level1_row13\" class=\"row_heading level1 row13\" >LeftFoot</th>\n",
       "      <td id=\"T_a4b5a_row13_col0\" class=\"data row13 col0\" >17.209964</td>\n",
       "      <td id=\"T_a4b5a_row13_col1\" class=\"data row13 col1\" >nan</td>\n",
       "      <td id=\"T_a4b5a_row13_col2\" class=\"data row13 col2\" >2.360667</td>\n",
       "    </tr>\n",
       "    <tr>\n",
       "      <th id=\"T_a4b5a_level1_row14\" class=\"row_heading level1 row14\" >RightFoot</th>\n",
       "      <td id=\"T_a4b5a_row14_col0\" class=\"data row14 col0\" >15.909384</td>\n",
       "      <td id=\"T_a4b5a_row14_col1\" class=\"data row14 col1\" >nan</td>\n",
       "      <td id=\"T_a4b5a_row14_col2\" class=\"data row14 col2\" >4.097851</td>\n",
       "    </tr>\n",
       "    <tr>\n",
       "      <th id=\"T_a4b5a_level0_row15\" class=\"row_heading level0 row15\" rowspan=\"2\">Pat_10</th>\n",
       "      <th id=\"T_a4b5a_level1_row15\" class=\"row_heading level1 row15\" >LeftFoot</th>\n",
       "      <td id=\"T_a4b5a_row15_col0\" class=\"data row15 col0\" >-5.589217</td>\n",
       "      <td id=\"T_a4b5a_row15_col1\" class=\"data row15 col1\" >-4.671948</td>\n",
       "      <td id=\"T_a4b5a_row15_col2\" class=\"data row15 col2\" >nan</td>\n",
       "    </tr>\n",
       "    <tr>\n",
       "      <th id=\"T_a4b5a_level1_row16\" class=\"row_heading level1 row16\" >RightFoot</th>\n",
       "      <td id=\"T_a4b5a_row16_col0\" class=\"data row16 col0\" >-4.791792</td>\n",
       "      <td id=\"T_a4b5a_row16_col1\" class=\"data row16 col1\" >-3.686073</td>\n",
       "      <td id=\"T_a4b5a_row16_col2\" class=\"data row16 col2\" >nan</td>\n",
       "    </tr>\n",
       "    <tr>\n",
       "      <th id=\"T_a4b5a_level0_row17\" class=\"row_heading level0 row17\" rowspan=\"2\">Pat_25</th>\n",
       "      <th id=\"T_a4b5a_level1_row17\" class=\"row_heading level1 row17\" >LeftFoot</th>\n",
       "      <td id=\"T_a4b5a_row17_col0\" class=\"data row17 col0\" >6.075436</td>\n",
       "      <td id=\"T_a4b5a_row17_col1\" class=\"data row17 col1\" >19.834984</td>\n",
       "      <td id=\"T_a4b5a_row17_col2\" class=\"data row17 col2\" >19.087896</td>\n",
       "    </tr>\n",
       "    <tr>\n",
       "      <th id=\"T_a4b5a_level1_row18\" class=\"row_heading level1 row18\" >RightFoot</th>\n",
       "      <td id=\"T_a4b5a_row18_col0\" class=\"data row18 col0\" >5.596013</td>\n",
       "      <td id=\"T_a4b5a_row18_col1\" class=\"data row18 col1\" >16.888786</td>\n",
       "      <td id=\"T_a4b5a_row18_col2\" class=\"data row18 col2\" >16.412855</td>\n",
       "    </tr>\n",
       "    <tr>\n",
       "      <th id=\"T_a4b5a_level0_row19\" class=\"row_heading level0 row19\" rowspan=\"2\">Pat_09</th>\n",
       "      <th id=\"T_a4b5a_level1_row19\" class=\"row_heading level1 row19\" >LeftFoot</th>\n",
       "      <td id=\"T_a4b5a_row19_col0\" class=\"data row19 col0\" >2.750540</td>\n",
       "      <td id=\"T_a4b5a_row19_col1\" class=\"data row19 col1\" >13.544548</td>\n",
       "      <td id=\"T_a4b5a_row19_col2\" class=\"data row19 col2\" >11.827022</td>\n",
       "    </tr>\n",
       "    <tr>\n",
       "      <th id=\"T_a4b5a_level1_row20\" class=\"row_heading level1 row20\" >RightFoot</th>\n",
       "      <td id=\"T_a4b5a_row20_col0\" class=\"data row20 col0\" >2.945530</td>\n",
       "      <td id=\"T_a4b5a_row20_col1\" class=\"data row20 col1\" >14.079541</td>\n",
       "      <td id=\"T_a4b5a_row20_col2\" class=\"data row20 col2\" >11.984534</td>\n",
       "    </tr>\n",
       "    <tr>\n",
       "      <th id=\"T_a4b5a_level0_row21\" class=\"row_heading level0 row21\" >Pat_07</th>\n",
       "      <th id=\"T_a4b5a_level1_row21\" class=\"row_heading level1 row21\" >RightFoot</th>\n",
       "      <td id=\"T_a4b5a_row21_col0\" class=\"data row21 col0\" >8.684413</td>\n",
       "      <td id=\"T_a4b5a_row21_col1\" class=\"data row21 col1\" >13.423146</td>\n",
       "      <td id=\"T_a4b5a_row21_col2\" class=\"data row21 col2\" >-4.603157</td>\n",
       "    </tr>\n",
       "    <tr>\n",
       "      <th id=\"T_a4b5a_level0_row22\" class=\"row_heading level0 row22\" >Pat_08</th>\n",
       "      <th id=\"T_a4b5a_level1_row22\" class=\"row_heading level1 row22\" >LeftFoot</th>\n",
       "      <td id=\"T_a4b5a_row22_col0\" class=\"data row22 col0\" >-3.612118</td>\n",
       "      <td id=\"T_a4b5a_row22_col1\" class=\"data row22 col1\" >-7.745898</td>\n",
       "      <td id=\"T_a4b5a_row22_col2\" class=\"data row22 col2\" >-6.808086</td>\n",
       "    </tr>\n",
       "    <tr>\n",
       "      <th id=\"T_a4b5a_level0_row23\" class=\"row_heading level0 row23\" rowspan=\"2\">Pat_13</th>\n",
       "      <th id=\"T_a4b5a_level1_row23\" class=\"row_heading level1 row23\" >LeftFoot</th>\n",
       "      <td id=\"T_a4b5a_row23_col0\" class=\"data row23 col0\" >nan</td>\n",
       "      <td id=\"T_a4b5a_row23_col1\" class=\"data row23 col1\" >-4.265760</td>\n",
       "      <td id=\"T_a4b5a_row23_col2\" class=\"data row23 col2\" >nan</td>\n",
       "    </tr>\n",
       "    <tr>\n",
       "      <th id=\"T_a4b5a_level1_row24\" class=\"row_heading level1 row24\" >RightFoot</th>\n",
       "      <td id=\"T_a4b5a_row24_col0\" class=\"data row24 col0\" >nan</td>\n",
       "      <td id=\"T_a4b5a_row24_col1\" class=\"data row24 col1\" >-9.380277</td>\n",
       "      <td id=\"T_a4b5a_row24_col2\" class=\"data row24 col2\" >nan</td>\n",
       "    </tr>\n",
       "    <tr>\n",
       "      <th id=\"T_a4b5a_level0_row25\" class=\"row_heading level0 row25\" >Pat_14</th>\n",
       "      <th id=\"T_a4b5a_level1_row25\" class=\"row_heading level1 row25\" >RightFoot</th>\n",
       "      <td id=\"T_a4b5a_row25_col0\" class=\"data row25 col0\" >nan</td>\n",
       "      <td id=\"T_a4b5a_row25_col1\" class=\"data row25 col1\" >nan</td>\n",
       "      <td id=\"T_a4b5a_row25_col2\" class=\"data row25 col2\" >nan</td>\n",
       "    </tr>\n",
       "    <tr>\n",
       "      <th id=\"T_a4b5a_level0_row26\" class=\"row_heading level0 row26\" >Pat_01</th>\n",
       "      <th id=\"T_a4b5a_level1_row26\" class=\"row_heading level1 row26\" >RightFoot</th>\n",
       "      <td id=\"T_a4b5a_row26_col0\" class=\"data row26 col0\" >nan</td>\n",
       "      <td id=\"T_a4b5a_row26_col1\" class=\"data row26 col1\" >31.322147</td>\n",
       "      <td id=\"T_a4b5a_row26_col2\" class=\"data row26 col2\" >nan</td>\n",
       "    </tr>\n",
       "    <tr>\n",
       "      <th id=\"T_a4b5a_level0_row27\" class=\"row_heading level0 row27\" rowspan=\"2\">Pat_11</th>\n",
       "      <th id=\"T_a4b5a_level1_row27\" class=\"row_heading level1 row27\" >LeftFoot</th>\n",
       "      <td id=\"T_a4b5a_row27_col0\" class=\"data row27 col0\" >-3.831784</td>\n",
       "      <td id=\"T_a4b5a_row27_col1\" class=\"data row27 col1\" >1.918014</td>\n",
       "      <td id=\"T_a4b5a_row27_col2\" class=\"data row27 col2\" >nan</td>\n",
       "    </tr>\n",
       "    <tr>\n",
       "      <th id=\"T_a4b5a_level1_row28\" class=\"row_heading level1 row28\" >RightFoot</th>\n",
       "      <td id=\"T_a4b5a_row28_col0\" class=\"data row28 col0\" >-4.353903</td>\n",
       "      <td id=\"T_a4b5a_row28_col1\" class=\"data row28 col1\" >3.120872</td>\n",
       "      <td id=\"T_a4b5a_row28_col2\" class=\"data row28 col2\" >nan</td>\n",
       "    </tr>\n",
       "    <tr>\n",
       "      <th id=\"T_a4b5a_level0_row29\" class=\"row_heading level0 row29\" rowspan=\"2\">Pat_20</th>\n",
       "      <th id=\"T_a4b5a_level1_row29\" class=\"row_heading level1 row29\" >LeftFoot</th>\n",
       "      <td id=\"T_a4b5a_row29_col0\" class=\"data row29 col0\" >8.591372</td>\n",
       "      <td id=\"T_a4b5a_row29_col1\" class=\"data row29 col1\" >14.123268</td>\n",
       "      <td id=\"T_a4b5a_row29_col2\" class=\"data row29 col2\" >8.125132</td>\n",
       "    </tr>\n",
       "    <tr>\n",
       "      <th id=\"T_a4b5a_level1_row30\" class=\"row_heading level1 row30\" >RightFoot</th>\n",
       "      <td id=\"T_a4b5a_row30_col0\" class=\"data row30 col0\" >7.465800</td>\n",
       "      <td id=\"T_a4b5a_row30_col1\" class=\"data row30 col1\" >11.550782</td>\n",
       "      <td id=\"T_a4b5a_row30_col2\" class=\"data row30 col2\" >5.225193</td>\n",
       "    </tr>\n",
       "  </tbody>\n",
       "</table>\n"
      ],
      "text/plain": [
       "<pandas.io.formats.style.Styler at 0x22ae9348e88>"
      ]
     },
     "execution_count": 9,
     "metadata": {},
     "output_type": "execute_result"
    },
    {
     "data": {
      "application/javascript": [
       "\n",
       "            setTimeout(function() {\n",
       "                var nbb_cell_id = 9;\n",
       "                var nbb_unformatted_code = \"def style_negative(v, props=''):\\n    return props if v < 0 else None\\n\\ns2 = changes_overview.style.applymap(style_negative, props='color:red;')\\\\\\n              .applymap(lambda v: 'opacity: 20%;' if (v < 0) and (v > -0.3) else None)\\nprint(\\\"nan = nicht signifikant laut posthoc analyse\\\")\\nprint(f\\\"Werte = \\u00c4nderung von OFF im Vergleich zur DBS Einstellung bez\\u00fcglich des Parameters {gait_parameter}\\\")\\nprint(f\\\"--> positiver Wert, z.b. 3.6, bei 085 bedeutet, dass {gait_parameter} bei 085 um 3.6 {gait_parameter.split('_')[-1]} h\\u00f6her war.\\\")\\ns2\";\n",
       "                var nbb_formatted_code = \"def style_negative(v, props=\\\"\\\"):\\n    return props if v < 0 else None\\n\\n\\ns2 = changes_overview.style.applymap(style_negative, props=\\\"color:red;\\\").applymap(\\n    lambda v: \\\"opacity: 20%;\\\" if (v < 0) and (v > -0.3) else None\\n)\\nprint(\\\"nan = nicht signifikant laut posthoc analyse\\\")\\nprint(\\n    f\\\"Werte = \\u00c4nderung von OFF im Vergleich zur DBS Einstellung bez\\u00fcglich des Parameters {gait_parameter}\\\"\\n)\\nprint(\\n    f\\\"--> positiver Wert, z.b. 3.6, bei 085 bedeutet, dass {gait_parameter} bei 085 um 3.6 {gait_parameter.split('_')[-1]} h\\u00f6her war.\\\"\\n)\\ns2\";\n",
       "                var nbb_cells = Jupyter.notebook.get_cells();\n",
       "                for (var i = 0; i < nbb_cells.length; ++i) {\n",
       "                    if (nbb_cells[i].input_prompt_number == nbb_cell_id) {\n",
       "                        if (nbb_cells[i].get_text() == nbb_unformatted_code) {\n",
       "                             nbb_cells[i].set_text(nbb_formatted_code);\n",
       "                        }\n",
       "                        break;\n",
       "                    }\n",
       "                }\n",
       "            }, 500);\n",
       "            "
      ],
      "text/plain": [
       "<IPython.core.display.Javascript object>"
      ]
     },
     "metadata": {},
     "output_type": "display_data"
    }
   ],
   "source": [
    "def style_negative(v, props=''):\n",
    "    return props if v < 0 else None\n",
    "\n",
    "s2 = changes_overview.style.applymap(style_negative, props='color:red;')\\\n",
    "              .applymap(lambda v: 'opacity: 20%;' if (v < 0) and (v > -0.3) else None)\n",
    "print(\"nan = nicht signifikant laut posthoc analyse\")\n",
    "print(f\"Werte = Änderung von OFF im Vergleich zur DBS Einstellung bezüglich des Parameters {gait_parameter}\")\n",
    "print(f\"--> positiver Wert, z.b. 3.6, bei 085 bedeutet, dass {gait_parameter} bei 085 um 3.6 {gait_parameter.split('_')[-1]} höher war.\")\n",
    "s2"
   ]
  },
  {
   "cell_type": "code",
   "execution_count": 10,
   "id": "a4b7f39a-ddc0-4b78-9470-c33e46165be2",
   "metadata": {},
   "outputs": [
    {
     "name": "stdout",
     "output_type": "stream",
     "text": [
      "stride_length_cm\n",
      "Mean deacrease for patients who decreased (N=10) for 030: -8.036684253248621 \n",
      "Mean increase for patients who increased (N=13) for 030: 8.183557246383371\n",
      "\n",
      "Mean deacrease for patients who decreased (N=7) for 085: -8.125601854587162 \n",
      "Mean increase for patients who increased (N=18) for 085: 11.997280651427182\n",
      "\n",
      "Mean deacrease for patients who decreased (N=6) for 130: -7.534440871491715 \n",
      "Mean increase for patients who increased (N=16) for 130: 9.589410730524271\n",
      "\n"
     ]
    },
    {
     "data": {
      "application/javascript": [
       "\n",
       "            setTimeout(function() {\n",
       "                var nbb_cell_id = 10;\n",
       "                var nbb_unformatted_code = \"print(gait_parameter)\\nfor config in changes_overview.columns:\\n    feet_decreased = changes_overview[config][changes_overview[config]<0]\\n    feet_increased = changes_overview[config][changes_overview[config]>0]\\n    print(f\\\"Mean deacrease for patients who decreased (N={len(feet_decreased)}) for {config}: {feet_decreased.mean()} \\\")\\n    print(f\\\"Mean increase for patients who increased (N={len(feet_increased)}) for {config}: {feet_increased.mean()}\\\")\\n    print()\";\n",
       "                var nbb_formatted_code = \"print(gait_parameter)\\nfor config in changes_overview.columns:\\n    feet_decreased = changes_overview[config][changes_overview[config] < 0]\\n    feet_increased = changes_overview[config][changes_overview[config] > 0]\\n    print(\\n        f\\\"Mean deacrease for patients who decreased (N={len(feet_decreased)}) for {config}: {feet_decreased.mean()} \\\"\\n    )\\n    print(\\n        f\\\"Mean increase for patients who increased (N={len(feet_increased)}) for {config}: {feet_increased.mean()}\\\"\\n    )\\n    print()\";\n",
       "                var nbb_cells = Jupyter.notebook.get_cells();\n",
       "                for (var i = 0; i < nbb_cells.length; ++i) {\n",
       "                    if (nbb_cells[i].input_prompt_number == nbb_cell_id) {\n",
       "                        if (nbb_cells[i].get_text() == nbb_unformatted_code) {\n",
       "                             nbb_cells[i].set_text(nbb_formatted_code);\n",
       "                        }\n",
       "                        break;\n",
       "                    }\n",
       "                }\n",
       "            }, 500);\n",
       "            "
      ],
      "text/plain": [
       "<IPython.core.display.Javascript object>"
      ]
     },
     "metadata": {},
     "output_type": "display_data"
    }
   ],
   "source": [
    "print(gait_parameter)\n",
    "for config in changes_overview.columns:\n",
    "    feet_decreased = changes_overview[config][changes_overview[config]<0]\n",
    "    feet_increased = changes_overview[config][changes_overview[config]>0]\n",
    "    print(f\"Mean deacrease for patients who decreased (N={len(feet_decreased)}) for {config}: {feet_decreased.mean()} \")\n",
    "    print(f\"Mean increase for patients who increased (N={len(feet_increased)}) for {config}: {feet_increased.mean()}\")\n",
    "    print()"
   ]
  },
  {
   "cell_type": "code",
   "execution_count": 11,
   "id": "9ab95e06-5082-4625-9ce3-24dd0837fa4f",
   "metadata": {},
   "outputs": [
    {
     "name": "stdout",
     "output_type": "stream",
     "text": [
      "Mean changes across all feet and patients:\n",
      " 030    1.131278\n",
      "085    6.362874\n",
      "130    4.919269\n",
      "dtype: float64\n"
     ]
    },
    {
     "data": {
      "application/javascript": [
       "\n",
       "            setTimeout(function() {\n",
       "                var nbb_cell_id = 11;\n",
       "                var nbb_unformatted_code = \"print(\\\"Mean changes across all feet and patients:\\\\n\\\", changes_overview.mean())\";\n",
       "                var nbb_formatted_code = \"print(\\\"Mean changes across all feet and patients:\\\\n\\\", changes_overview.mean())\";\n",
       "                var nbb_cells = Jupyter.notebook.get_cells();\n",
       "                for (var i = 0; i < nbb_cells.length; ++i) {\n",
       "                    if (nbb_cells[i].input_prompt_number == nbb_cell_id) {\n",
       "                        if (nbb_cells[i].get_text() == nbb_unformatted_code) {\n",
       "                             nbb_cells[i].set_text(nbb_formatted_code);\n",
       "                        }\n",
       "                        break;\n",
       "                    }\n",
       "                }\n",
       "            }, 500);\n",
       "            "
      ],
      "text/plain": [
       "<IPython.core.display.Javascript object>"
      ]
     },
     "metadata": {},
     "output_type": "display_data"
    }
   ],
   "source": [
    "print(\"Mean changes across all feet and patients:\\n\", changes_overview.mean())"
   ]
  },
  {
   "cell_type": "code",
   "execution_count": 12,
   "id": "2e3e2a96-c8a5-4bd5-877f-825639cffe8e",
   "metadata": {},
   "outputs": [
    {
     "data": {
      "application/javascript": [
       "\n",
       "            setTimeout(function() {\n",
       "                var nbb_cell_id = 12;\n",
       "                var nbb_unformatted_code = \"test_params = stride_params[stride_params[\\\"test\\\"]==\\\"free\\\"]\\ntest_params_mean = test_params.groupby([\\\"patient_id\\\", \\\"configuration\\\"]).mean()\\ntest_params_mean['configuration']=test_params_mean.index.get_level_values(level=1)\\ntest_params_mean.index = test_params_mean.index.droplevel(level=1)\";\n",
       "                var nbb_formatted_code = \"test_params = stride_params[stride_params[\\\"test\\\"] == \\\"free\\\"]\\ntest_params_mean = test_params.groupby([\\\"patient_id\\\", \\\"configuration\\\"]).mean()\\ntest_params_mean[\\\"configuration\\\"] = test_params_mean.index.get_level_values(level=1)\\ntest_params_mean.index = test_params_mean.index.droplevel(level=1)\";\n",
       "                var nbb_cells = Jupyter.notebook.get_cells();\n",
       "                for (var i = 0; i < nbb_cells.length; ++i) {\n",
       "                    if (nbb_cells[i].input_prompt_number == nbb_cell_id) {\n",
       "                        if (nbb_cells[i].get_text() == nbb_unformatted_code) {\n",
       "                             nbb_cells[i].set_text(nbb_formatted_code);\n",
       "                        }\n",
       "                        break;\n",
       "                    }\n",
       "                }\n",
       "            }, 500);\n",
       "            "
      ],
      "text/plain": [
       "<IPython.core.display.Javascript object>"
      ]
     },
     "metadata": {},
     "output_type": "display_data"
    }
   ],
   "source": [
    "test_params = stride_params[stride_params[\"test\"]==\"free\"]\n",
    "test_params_mean = test_params.groupby([\"patient_id\", \"configuration\"]).mean()\n",
    "test_params_mean['configuration']=test_params_mean.index.get_level_values(level=1)\n",
    "test_params_mean.index = test_params_mean.index.droplevel(level=1)"
   ]
  },
  {
   "cell_type": "code",
   "execution_count": 13,
   "id": "00088cf4-e06d-4962-9357-72e86647fd1b",
   "metadata": {},
   "outputs": [
    {
     "data": {
      "application/javascript": [
       "\n",
       "            setTimeout(function() {\n",
       "                var nbb_cell_id = 13;\n",
       "                var nbb_unformatted_code = \"#sp.posthoc_ttest(test_params, val_col=gait_parameter, group_col='configuration', p_adjust='holm').loc[\\\"OFF\\\"]\";\n",
       "                var nbb_formatted_code = \"# sp.posthoc_ttest(test_params, val_col=gait_parameter, group_col='configuration', p_adjust='holm').loc[\\\"OFF\\\"]\";\n",
       "                var nbb_cells = Jupyter.notebook.get_cells();\n",
       "                for (var i = 0; i < nbb_cells.length; ++i) {\n",
       "                    if (nbb_cells[i].input_prompt_number == nbb_cell_id) {\n",
       "                        if (nbb_cells[i].get_text() == nbb_unformatted_code) {\n",
       "                             nbb_cells[i].set_text(nbb_formatted_code);\n",
       "                        }\n",
       "                        break;\n",
       "                    }\n",
       "                }\n",
       "            }, 500);\n",
       "            "
      ],
      "text/plain": [
       "<IPython.core.display.Javascript object>"
      ]
     },
     "metadata": {},
     "output_type": "display_data"
    }
   ],
   "source": [
    "#sp.posthoc_ttest(test_params, val_col=gait_parameter, group_col='configuration', p_adjust='holm').loc[\"OFF\"]"
   ]
  },
  {
   "cell_type": "code",
   "execution_count": 14,
   "id": "7b336fe7-32e8-4e91-b495-c4a313b769ab",
   "metadata": {},
   "outputs": [
    {
     "data": {
      "application/javascript": [
       "\n",
       "            setTimeout(function() {\n",
       "                var nbb_cell_id = 14;\n",
       "                var nbb_unformatted_code = \"#lm = sfa.ols(f\\\"{gait_parameter} ~ C(configuration)\\\", data=test_params).fit()\\n#anova = sa.stats.anova_lm(lm)\\n#print(anova)  \";\n",
       "                var nbb_formatted_code = \"# lm = sfa.ols(f\\\"{gait_parameter} ~ C(configuration)\\\", data=test_params).fit()\\n# anova = sa.stats.anova_lm(lm)\\n# print(anova)\";\n",
       "                var nbb_cells = Jupyter.notebook.get_cells();\n",
       "                for (var i = 0; i < nbb_cells.length; ++i) {\n",
       "                    if (nbb_cells[i].input_prompt_number == nbb_cell_id) {\n",
       "                        if (nbb_cells[i].get_text() == nbb_unformatted_code) {\n",
       "                             nbb_cells[i].set_text(nbb_formatted_code);\n",
       "                        }\n",
       "                        break;\n",
       "                    }\n",
       "                }\n",
       "            }, 500);\n",
       "            "
      ],
      "text/plain": [
       "<IPython.core.display.Javascript object>"
      ]
     },
     "metadata": {},
     "output_type": "display_data"
    }
   ],
   "source": [
    "#lm = sfa.ols(f\"{gait_parameter} ~ C(configuration)\", data=test_params).fit()\n",
    "#anova = sa.stats.anova_lm(lm)\n",
    "#print(anova)  "
   ]
  },
  {
   "cell_type": "code",
   "execution_count": null,
   "id": "a5323078-3347-4fd8-a7ca-cc5f20c624f7",
   "metadata": {},
   "outputs": [],
   "source": []
  }
 ],
 "metadata": {
  "kernelspec": {
   "display_name": "nb_dbs",
   "language": "python",
   "name": "nb_dbs"
  },
  "language_info": {
   "codemirror_mode": {
    "name": "ipython",
    "version": 3
   },
   "file_extension": ".py",
   "mimetype": "text/x-python",
   "name": "python",
   "nbconvert_exporter": "python",
   "pygments_lexer": "ipython3",
   "version": "3.7.11"
  }
 },
 "nbformat": 4,
 "nbformat_minor": 5
}
